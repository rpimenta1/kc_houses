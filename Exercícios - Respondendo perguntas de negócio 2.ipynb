{
 "cells": [
  {
   "cell_type": "markdown",
   "id": "24a94c0e",
   "metadata": {},
   "source": [
    "# Projeto Insights - Parte 2"
   ]
  },
  {
   "cell_type": "markdown",
   "id": "56988030",
   "metadata": {},
   "source": [
    "## Questões\n",
    "1. Crie um anova coluna chamada: \"house_age\" ==\n",
    " - Se o valor da coluna \"date\" for maior que 2014-01-01 => 'new_house\n",
    " - Se o valor da coluna \"date\" for menor que 2014-01-01 => 'old_house\n",
    "\n",
    "2. Crie uma nova coluna chamada: \"dormitory_type\"\n",
    " - Se o valor da coluna \"bedrooms\" for igual à 1 => 'studio'\n",
    " - Se o valor da coluna \"bedrooms\" for igual à 2 => 'apartament'\n",
    "\n",
    "3. Crie uma nova coluna chamada: \"condition_type\"\n",
    " - Se o valor da coluna \"condition\" for menor ou igual à 2 => 'bad'\n",
    " - Se o valor da coluna \"condition\" for igual à 3 ou 4 => 'regular'\n",
    " - Se o valor da coluna \"condition\" for igual à 5 => 'good'\n",
    "\n",
    "4. Modifique o TIPO da coluna \"condition\" para STRING\n",
    "\n",
    "5. Delete as colunas \"sqft_living15\" e \"sqft_lot15\"\n",
    "\n",
    "6. Modifique o TIPO da coluna \"yr_build\" para DATE\n",
    "\n",
    "7. Modifique o TIPO da coluna \"yr_renovated\" para DATE\n",
    "\n",
    "8. Qual a data mais antiga de construção de um imóvel?\n",
    "\n",
    "9. Qual a data mais antiga de renovação de um imóvel?\n",
    "\n",
    "10. Quantos imóveis tem 2 andares?\n",
    "\n",
    "11. Quantos imóveis estão com a condição igual à \"regular\"?\n",
    "\n",
    "12. Quantos imóveis estão com a condição igual a \"bad\" e possuem \"vista para água\"?\n",
    "\n",
    "13. Quantos imóveis estão com a condição igual a \"good\" e são \"new_house\"?\n",
    "\n",
    "14. Qual o valor do imóvel mais caro do tipo \"studio\"?\n",
    "\n",
    "15. Quantos imóveis do tipo \"apartament\" foram reformados em 2015?\n",
    "\n",
    "16. Qual o maior número de quartos que um imóvel do tipo \"house\" possui?\n",
    "\n",
    "17. Quandos imóveis \"new_house\" foram reformados no ano de 2014?\n",
    "\n",
    "18. Selecione as colunas: \"id = 0\", \"date = 1\", \"price = 2\", \"floors\" = 7, \"zipcode = 16\" pelo método:\n",
    " - Direto pelo nome das colunas\n",
    "\n",
    " - Pelos índices\n",
    "\n",
    " - Pelos índices das linhas e o nome das colunas\n",
    "\n",
    " - Índices booleanos\n",
    "\n",
    "19. Salve um arquivo .csv com somente as colunas que foram criadas\n"
   ]
  },
  {
   "cell_type": "markdown",
   "id": "58fdb5a8",
   "metadata": {},
   "source": [
    "### 0. Importando bibliotecas"
   ]
  },
  {
   "cell_type": "code",
   "execution_count": 1,
   "id": "827aa96a",
   "metadata": {},
   "outputs": [],
   "source": [
    "import pandas as pd\n",
    "import numpy as np"
   ]
  },
  {
   "cell_type": "code",
   "execution_count": 2,
   "id": "c7bb1402",
   "metadata": {},
   "outputs": [
    {
     "data": {
      "text/html": [
       "<div>\n",
       "<style scoped>\n",
       "    .dataframe tbody tr th:only-of-type {\n",
       "        vertical-align: middle;\n",
       "    }\n",
       "\n",
       "    .dataframe tbody tr th {\n",
       "        vertical-align: top;\n",
       "    }\n",
       "\n",
       "    .dataframe thead th {\n",
       "        text-align: right;\n",
       "    }\n",
       "</style>\n",
       "<table border=\"1\" class=\"dataframe\">\n",
       "  <thead>\n",
       "    <tr style=\"text-align: right;\">\n",
       "      <th></th>\n",
       "      <th>id</th>\n",
       "      <th>date</th>\n",
       "      <th>price</th>\n",
       "      <th>bedrooms</th>\n",
       "      <th>bathrooms</th>\n",
       "      <th>sqft_living</th>\n",
       "      <th>sqft_lot</th>\n",
       "      <th>floors</th>\n",
       "      <th>waterfront</th>\n",
       "      <th>view</th>\n",
       "      <th>...</th>\n",
       "      <th>grade</th>\n",
       "      <th>sqft_above</th>\n",
       "      <th>sqft_basement</th>\n",
       "      <th>yr_built</th>\n",
       "      <th>yr_renovated</th>\n",
       "      <th>zipcode</th>\n",
       "      <th>lat</th>\n",
       "      <th>long</th>\n",
       "      <th>sqft_living15</th>\n",
       "      <th>sqft_lot15</th>\n",
       "    </tr>\n",
       "  </thead>\n",
       "  <tbody>\n",
       "    <tr>\n",
       "      <th>0</th>\n",
       "      <td>7129300520</td>\n",
       "      <td>20141013T000000</td>\n",
       "      <td>221900.0</td>\n",
       "      <td>3</td>\n",
       "      <td>1.00</td>\n",
       "      <td>1180</td>\n",
       "      <td>5650</td>\n",
       "      <td>1.0</td>\n",
       "      <td>0</td>\n",
       "      <td>0</td>\n",
       "      <td>...</td>\n",
       "      <td>7</td>\n",
       "      <td>1180</td>\n",
       "      <td>0</td>\n",
       "      <td>1955</td>\n",
       "      <td>0</td>\n",
       "      <td>98178</td>\n",
       "      <td>47.5112</td>\n",
       "      <td>-122.257</td>\n",
       "      <td>1340</td>\n",
       "      <td>5650</td>\n",
       "    </tr>\n",
       "    <tr>\n",
       "      <th>1</th>\n",
       "      <td>6414100192</td>\n",
       "      <td>20141209T000000</td>\n",
       "      <td>538000.0</td>\n",
       "      <td>3</td>\n",
       "      <td>2.25</td>\n",
       "      <td>2570</td>\n",
       "      <td>7242</td>\n",
       "      <td>2.0</td>\n",
       "      <td>0</td>\n",
       "      <td>0</td>\n",
       "      <td>...</td>\n",
       "      <td>7</td>\n",
       "      <td>2170</td>\n",
       "      <td>400</td>\n",
       "      <td>1951</td>\n",
       "      <td>1991</td>\n",
       "      <td>98125</td>\n",
       "      <td>47.7210</td>\n",
       "      <td>-122.319</td>\n",
       "      <td>1690</td>\n",
       "      <td>7639</td>\n",
       "    </tr>\n",
       "    <tr>\n",
       "      <th>2</th>\n",
       "      <td>5631500400</td>\n",
       "      <td>20150225T000000</td>\n",
       "      <td>180000.0</td>\n",
       "      <td>2</td>\n",
       "      <td>1.00</td>\n",
       "      <td>770</td>\n",
       "      <td>10000</td>\n",
       "      <td>1.0</td>\n",
       "      <td>0</td>\n",
       "      <td>0</td>\n",
       "      <td>...</td>\n",
       "      <td>6</td>\n",
       "      <td>770</td>\n",
       "      <td>0</td>\n",
       "      <td>1933</td>\n",
       "      <td>0</td>\n",
       "      <td>98028</td>\n",
       "      <td>47.7379</td>\n",
       "      <td>-122.233</td>\n",
       "      <td>2720</td>\n",
       "      <td>8062</td>\n",
       "    </tr>\n",
       "    <tr>\n",
       "      <th>3</th>\n",
       "      <td>2487200875</td>\n",
       "      <td>20141209T000000</td>\n",
       "      <td>604000.0</td>\n",
       "      <td>4</td>\n",
       "      <td>3.00</td>\n",
       "      <td>1960</td>\n",
       "      <td>5000</td>\n",
       "      <td>1.0</td>\n",
       "      <td>0</td>\n",
       "      <td>0</td>\n",
       "      <td>...</td>\n",
       "      <td>7</td>\n",
       "      <td>1050</td>\n",
       "      <td>910</td>\n",
       "      <td>1965</td>\n",
       "      <td>0</td>\n",
       "      <td>98136</td>\n",
       "      <td>47.5208</td>\n",
       "      <td>-122.393</td>\n",
       "      <td>1360</td>\n",
       "      <td>5000</td>\n",
       "    </tr>\n",
       "    <tr>\n",
       "      <th>4</th>\n",
       "      <td>1954400510</td>\n",
       "      <td>20150218T000000</td>\n",
       "      <td>510000.0</td>\n",
       "      <td>3</td>\n",
       "      <td>2.00</td>\n",
       "      <td>1680</td>\n",
       "      <td>8080</td>\n",
       "      <td>1.0</td>\n",
       "      <td>0</td>\n",
       "      <td>0</td>\n",
       "      <td>...</td>\n",
       "      <td>8</td>\n",
       "      <td>1680</td>\n",
       "      <td>0</td>\n",
       "      <td>1987</td>\n",
       "      <td>0</td>\n",
       "      <td>98074</td>\n",
       "      <td>47.6168</td>\n",
       "      <td>-122.045</td>\n",
       "      <td>1800</td>\n",
       "      <td>7503</td>\n",
       "    </tr>\n",
       "  </tbody>\n",
       "</table>\n",
       "<p>5 rows × 21 columns</p>\n",
       "</div>"
      ],
      "text/plain": [
       "           id             date     price  bedrooms  bathrooms  sqft_living  \\\n",
       "0  7129300520  20141013T000000  221900.0         3       1.00         1180   \n",
       "1  6414100192  20141209T000000  538000.0         3       2.25         2570   \n",
       "2  5631500400  20150225T000000  180000.0         2       1.00          770   \n",
       "3  2487200875  20141209T000000  604000.0         4       3.00         1960   \n",
       "4  1954400510  20150218T000000  510000.0         3       2.00         1680   \n",
       "\n",
       "   sqft_lot  floors  waterfront  view  ...  grade  sqft_above  sqft_basement  \\\n",
       "0      5650     1.0           0     0  ...      7        1180              0   \n",
       "1      7242     2.0           0     0  ...      7        2170            400   \n",
       "2     10000     1.0           0     0  ...      6         770              0   \n",
       "3      5000     1.0           0     0  ...      7        1050            910   \n",
       "4      8080     1.0           0     0  ...      8        1680              0   \n",
       "\n",
       "   yr_built  yr_renovated  zipcode      lat     long  sqft_living15  \\\n",
       "0      1955             0    98178  47.5112 -122.257           1340   \n",
       "1      1951          1991    98125  47.7210 -122.319           1690   \n",
       "2      1933             0    98028  47.7379 -122.233           2720   \n",
       "3      1965             0    98136  47.5208 -122.393           1360   \n",
       "4      1987             0    98074  47.6168 -122.045           1800   \n",
       "\n",
       "   sqft_lot15  \n",
       "0        5650  \n",
       "1        7639  \n",
       "2        8062  \n",
       "3        5000  \n",
       "4        7503  \n",
       "\n",
       "[5 rows x 21 columns]"
      ]
     },
     "execution_count": 2,
     "metadata": {},
     "output_type": "execute_result"
    }
   ],
   "source": [
    "data = pd.read_csv('datasets/kc_house_data.csv')\n",
    "data.head()"
   ]
  },
  {
   "cell_type": "markdown",
   "id": "c3121f20",
   "metadata": {},
   "source": [
    "### 1. Crie um anova coluna chamada: \"house_age\" ==\n",
    " - Se o valor da coluna \"date\" for maior que 2014-01-01 => 'new_house\n",
    " - Se o valor da coluna \"date\" for menor que 2014-01-01 => 'old_house\n"
   ]
  },
  {
   "cell_type": "code",
   "execution_count": 3,
   "id": "0b34032f",
   "metadata": {},
   "outputs": [
    {
     "data": {
      "text/plain": [
       "0    new_house\n",
       "1    new_house\n",
       "2    new_house\n",
       "3    new_house\n",
       "4    new_house\n",
       "Name: house_age, dtype: object"
      ]
     },
     "execution_count": 3,
     "metadata": {},
     "output_type": "execute_result"
    }
   ],
   "source": [
    "data['date'] = pd.to_datetime(data['date'],format='%Y-%m-%d')\n",
    "data['house_age'] = data['date'].apply(lambda x: 'new_house' if x > pd.to_datetime('2014-01-01',format='%Y-%m-%d') else 'old_house')\n",
    "data['house_age'].head()"
   ]
  },
  {
   "cell_type": "markdown",
   "id": "922e1cad",
   "metadata": {},
   "source": [
    " ### 2. Crie uma nova coluna chamada: \"dormitory_type\"\n",
    " - Se o valor da coluna \"bedrooms\" for igual à 1 => 'studio'\n",
    " - Se o valor da coluna \"bedrooms\" for igual à 2 => 'apartament'"
   ]
  },
  {
   "cell_type": "code",
   "execution_count": 4,
   "id": "df413838",
   "metadata": {},
   "outputs": [
    {
     "data": {
      "text/plain": [
       "0        house\n",
       "1        house\n",
       "2    apartment\n",
       "3        house\n",
       "4        house\n",
       "Name: dormitory_type, dtype: object"
      ]
     },
     "execution_count": 4,
     "metadata": {},
     "output_type": "execute_result"
    }
   ],
   "source": [
    "#criando coluna condicional\n",
    "data['dormitory_type'] = data['bedrooms'].apply(lambda x: 'studio' if x == 1 else\n",
    "                                                          'apartment' if x ==2 else\n",
    "                                                            'house' if x > 2 else 'NA')\n",
    "data['dormitory_type'].head()"
   ]
  },
  {
   "cell_type": "markdown",
   "id": "88bd6e8d",
   "metadata": {},
   "source": [
    " ### 3. Crie uma nova coluna chamada: \"condition_type\"\n",
    " - Se o valor da coluna \"condition\" for menor ou igual à 2 => 'bad'\n",
    " - Se o valor da coluna \"condition\" for igual à 3 ou 4 => 'regular'\n",
    " - Se o valor da coluna \"condition\" for igual à 5 => 'good'"
   ]
  },
  {
   "cell_type": "code",
   "execution_count": 5,
   "id": "137ca8ad",
   "metadata": {},
   "outputs": [
    {
     "data": {
      "text/plain": [
       "0    regular\n",
       "1    regular\n",
       "2    regular\n",
       "3       good\n",
       "4    regular\n",
       "Name: condition_type, dtype: object"
      ]
     },
     "execution_count": 5,
     "metadata": {},
     "output_type": "execute_result"
    }
   ],
   "source": [
    "#criando coluna condicional\n",
    "data['condition_type'] = data['condition'].apply(lambda x:  'bad' if x <=2 else\n",
    "                                                            'regular' if (x == 3) | (x==4)  else 'good' )\n",
    "data['condition_type'].head()"
   ]
  },
  {
   "cell_type": "markdown",
   "id": "41dc0a1d",
   "metadata": {},
   "source": [
    "### 4. Modifique o TIPO da coluna \"condition\" para STRING"
   ]
  },
  {
   "cell_type": "code",
   "execution_count": 6,
   "id": "f629891f",
   "metadata": {},
   "outputs": [
    {
     "data": {
      "text/plain": [
       "dtype('int64')"
      ]
     },
     "execution_count": 6,
     "metadata": {},
     "output_type": "execute_result"
    }
   ],
   "source": [
    "data['condition'].astype(str) #convertendo a coluna condition para int\n",
    "data['condition'].dtypes"
   ]
  },
  {
   "cell_type": "markdown",
   "id": "4fe6da93",
   "metadata": {},
   "source": [
    "### 5. Delete as colunas \"sqft_living15\" e \"sqft_lot15\"\n"
   ]
  },
  {
   "cell_type": "code",
   "execution_count": 7,
   "id": "730f2d69",
   "metadata": {},
   "outputs": [],
   "source": [
    "data = data.drop(['sqft_living15', 'sqft_lot15'], axis=1) "
   ]
  },
  {
   "cell_type": "markdown",
   "id": "e2c776ca",
   "metadata": {},
   "source": [
    "### 6. Modifique o TIPO da coluna \"yr_build\" para DATE"
   ]
  },
  {
   "cell_type": "code",
   "execution_count": 8,
   "id": "6aa0cdab",
   "metadata": {},
   "outputs": [
    {
     "data": {
      "text/plain": [
       "0   1955-01-01\n",
       "1   1951-01-01\n",
       "2   1933-01-01\n",
       "3   1965-01-01\n",
       "4   1987-01-01\n",
       "Name: yr_built, dtype: datetime64[ns]"
      ]
     },
     "execution_count": 8,
     "metadata": {},
     "output_type": "execute_result"
    }
   ],
   "source": [
    "data['yr_built'] = pd.to_datetime(data['yr_built'], format='%Y') #convertendo a coluna 'year' para data\n",
    "data['yr_built'].head()"
   ]
  },
  {
   "cell_type": "markdown",
   "id": "3003d3f0",
   "metadata": {},
   "source": [
    "### 7. Modifique o TIPO da coluna \"yr_renovated\" para DATE"
   ]
  },
  {
   "cell_type": "code",
   "execution_count": 17,
   "id": "fddacbf7",
   "metadata": {},
   "outputs": [
    {
     "data": {
      "text/plain": [
       "0   1970-01-01\n",
       "1   1991-01-01\n",
       "2   1970-01-01\n",
       "3   1970-01-01\n",
       "4   1970-01-01\n",
       "Name: yr_renovated, dtype: datetime64[ns]"
      ]
     },
     "execution_count": 17,
     "metadata": {},
     "output_type": "execute_result"
    }
   ],
   "source": [
    "data['yr_renovated']= data['yr_renovated'].apply(lambda x: pd.to_datetime('1900-01-01',format ='%Y-%m-%d') if x== 0 else\n",
    "                                 pd.to_datetime(x, format='%Y'))     \n",
    "data['yr_renovated'].head()"
   ]
  },
  {
   "cell_type": "markdown",
   "id": "be78d4d0",
   "metadata": {},
   "source": [
    "### 8. Qual a data mais antiga de construção de um imóvel?"
   ]
  },
  {
   "cell_type": "code",
   "execution_count": 16,
   "id": "a438b87b",
   "metadata": {},
   "outputs": [
    {
     "name": "stdout",
     "output_type": "stream",
     "text": [
      "A casa mais antiga é 1900-01-01 00:00:00\n"
     ]
    }
   ],
   "source": [
    "mais_antiga = data['yr_built'].min()\n",
    "print('A casa mais antiga é {}'.format(mais_antiga))"
   ]
  },
  {
   "cell_type": "markdown",
   "id": "2c2488ac",
   "metadata": {},
   "source": [
    "### 9. Qual a data mais antiga de renovação de um imóvel?\n"
   ]
  },
  {
   "cell_type": "code",
   "execution_count": 21,
   "id": "266e0ae7",
   "metadata": {},
   "outputs": [
    {
     "name": "stdout",
     "output_type": "stream",
     "text": [
      "A casa de renovação mais antiga é 1934-01-01 00:00:00\n"
     ]
    }
   ],
   "source": [
    "renov_maisantiga = data.loc[data['yr_renovated'] > pd.to_datetime('1900-01-01', format='%Y-%m-%d'),'yr_renovated'].min()\n",
    "print('A casa de renovação mais antiga é {}'.format(renov_maisantiga))"
   ]
  },
  {
   "cell_type": "markdown",
   "id": "b7c5fd55",
   "metadata": {},
   "source": [
    "### 10. Quantos imóveis tem 2 andares?"
   ]
  },
  {
   "cell_type": "code",
   "execution_count": 24,
   "id": "e4d6bfcf",
   "metadata": {},
   "outputs": [
    {
     "name": "stdout",
     "output_type": "stream",
     "text": [
      "Há 8241 imóveis com 2 andares\n"
     ]
    }
   ],
   "source": [
    "casas_2and = data.loc[data['floors'] == 2,'id'].size\n",
    "print('Há {} imóveis com 2 andares'.format(casas_2and))"
   ]
  },
  {
   "cell_type": "markdown",
   "id": "cef9bd03",
   "metadata": {},
   "source": [
    "### 11. Quantos imóveis estão com a condição igual à \"regular\"?\n"
   ]
  },
  {
   "cell_type": "code",
   "execution_count": 26,
   "id": "cabf14dc",
   "metadata": {},
   "outputs": [
    {
     "name": "stdout",
     "output_type": "stream",
     "text": [
      "Há 19710 imóveis na condição regular\n"
     ]
    }
   ],
   "source": [
    "casas_regul = data.loc[data['condition_type'] =='regular','id'].size\n",
    "print('Há {} imóveis na condição regular'.format(casas_regul))"
   ]
  },
  {
   "cell_type": "markdown",
   "id": "769e4856",
   "metadata": {},
   "source": [
    "### 12. Quantos imóveis estão com a condição igual a \"bad\" e possuem \"vista para água\"?\n"
   ]
  },
  {
   "cell_type": "code",
   "execution_count": 37,
   "id": "20998884",
   "metadata": {},
   "outputs": [
    {
     "name": "stdout",
     "output_type": "stream",
     "text": [
      "Há 2 casas com a condição ruim e com vista para água\n"
     ]
    }
   ],
   "source": [
    "casas_bad_vistaagua = data.loc[(data['condition_type']== 'bad') & (data['waterfront'] ==1),'id'].size\n",
    "print('Há {} casas com a condição ruim e com vista para água'.format(casas_bad_vistaagua))"
   ]
  },
  {
   "cell_type": "markdown",
   "id": "70700413",
   "metadata": {},
   "source": [
    " ### 13. Quantos imóveis estão com a condição igual a \"good\" e são \"new_house\"?"
   ]
  },
  {
   "cell_type": "code",
   "execution_count": 39,
   "id": "6d1a8f95",
   "metadata": {},
   "outputs": [
    {
     "name": "stdout",
     "output_type": "stream",
     "text": [
      "Há 1701 imóveis na condição good e classficados como new\n"
     ]
    }
   ],
   "source": [
    "imovel_good_new = data.loc[(data['condition_type'] == 'good') & (data['house_age']),'id'].size\n",
    "print('Há {} imóveis na condição good e classficados como new'.format(imovel_good_new))"
   ]
  },
  {
   "cell_type": "markdown",
   "id": "52c0f853",
   "metadata": {},
   "source": [
    "### 14. Qual o valor do imóvel mais caro do tipo \"studio\"?\n"
   ]
  },
  {
   "cell_type": "code",
   "execution_count": 43,
   "id": "84475feb",
   "metadata": {},
   "outputs": [
    {
     "name": "stdout",
     "output_type": "stream",
     "text": [
      "O Studio mais caro é custa 1247000.0\n"
     ]
    }
   ],
   "source": [
    "studio_maiscaro = data.loc[data['dormitory_type'] == 'studio','price'].max()\n",
    "\n",
    "print('O Studio mais caro é custa {}'.format(studio_maiscaro))"
   ]
  },
  {
   "cell_type": "markdown",
   "id": "01a7f639",
   "metadata": {},
   "source": [
    " ### 15. Quantos imóveis do tipo \"apartament\" foram reformados em 2015?\n"
   ]
  },
  {
   "cell_type": "code",
   "execution_count": 47,
   "id": "b6262100",
   "metadata": {},
   "outputs": [
    {
     "name": "stdout",
     "output_type": "stream",
     "text": [
      "Há um total de 0 imóveis do tipo apartamento que foram reformados em 2015\n"
     ]
    }
   ],
   "source": [
    "apartament_reforma2015 = data.loc[(data['dormitory_type'] =='apartament') & (data['yr_renovated'] == pd.to_datetime('2015-01-01')),'id'].size\n",
    "print('Há um total de {} imóveis do tipo apartamento que foram reformados em 2015'.format(apartament_reforma2015))"
   ]
  },
  {
   "cell_type": "markdown",
   "id": "4688c9d2",
   "metadata": {},
   "source": [
    " ### 16. Qual o maior número de quartos que um imóvel do tipo \"house\" possui?\n"
   ]
  },
  {
   "cell_type": "code",
   "execution_count": 52,
   "id": "6f7323ab",
   "metadata": {},
   "outputs": [
    {
     "name": "stdout",
     "output_type": "stream",
     "text": [
      "Há 33 quartos no maior imóvel do tipo house\n"
     ]
    }
   ],
   "source": [
    "house_mais_quartos = data.loc[data['dormitory_type'] == 'house','bedrooms'].max()\n",
    "print('Há {} quartos no maior imóvel do tipo house'.format(house_mais_quartos))"
   ]
  },
  {
   "cell_type": "markdown",
   "id": "c06ebc6b",
   "metadata": {},
   "source": [
    " ### 17. Quantos imóveis \"new_house\" foram reformados no ano de 2014?\n"
   ]
  },
  {
   "cell_type": "code",
   "execution_count": 59,
   "id": "0900b279",
   "metadata": {},
   "outputs": [
    {
     "name": "stdout",
     "output_type": "stream",
     "text": [
      "Há 91 imóveis do tipo new_house que foram reformados em 2014\n"
     ]
    }
   ],
   "source": [
    "qtde_imov_ref_2014 = data.loc[(data['house_age'] == 'new_house') &\n",
    "                   (data['yr_renovated'] == pd.to_datetime('2014-01-01',format='%Y-%m-%d')),'id'].size\n",
    "\n",
    "print('Há {} imóveis do tipo new_house que foram reformados em 2014'.format(qtde_imov_ref_2014) )"
   ]
  },
  {
   "cell_type": "markdown",
   "id": "f36b7d24",
   "metadata": {},
   "source": [
    "### 18. Selecione as colunas: \"id = 0\", \"date = 1\", \"price = 2\", \"floors\" = 7, \"zipcode = 16\" pelo método:\n",
    " - Direto pelo nome das colunas\n",
    "\n",
    " - Pelos índices\n",
    "\n",
    " - Pelos índices das linhas e o nome das colunas\n",
    "\n",
    " - Índices booleanos\n"
   ]
  },
  {
   "cell_type": "code",
   "execution_count": 69,
   "id": "b1e570a1",
   "metadata": {},
   "outputs": [
    {
     "data": {
      "text/html": [
       "<div>\n",
       "<style scoped>\n",
       "    .dataframe tbody tr th:only-of-type {\n",
       "        vertical-align: middle;\n",
       "    }\n",
       "\n",
       "    .dataframe tbody tr th {\n",
       "        vertical-align: top;\n",
       "    }\n",
       "\n",
       "    .dataframe thead th {\n",
       "        text-align: right;\n",
       "    }\n",
       "</style>\n",
       "<table border=\"1\" class=\"dataframe\">\n",
       "  <thead>\n",
       "    <tr style=\"text-align: right;\">\n",
       "      <th></th>\n",
       "      <th>id</th>\n",
       "      <th>date</th>\n",
       "      <th>price</th>\n",
       "      <th>floors</th>\n",
       "      <th>zipcode</th>\n",
       "    </tr>\n",
       "  </thead>\n",
       "  <tbody>\n",
       "    <tr>\n",
       "      <th>0</th>\n",
       "      <td>7129300520</td>\n",
       "      <td>2014-10-13</td>\n",
       "      <td>221900.0</td>\n",
       "      <td>1.0</td>\n",
       "      <td>98178</td>\n",
       "    </tr>\n",
       "    <tr>\n",
       "      <th>1</th>\n",
       "      <td>6414100192</td>\n",
       "      <td>2014-12-09</td>\n",
       "      <td>538000.0</td>\n",
       "      <td>2.0</td>\n",
       "      <td>98125</td>\n",
       "    </tr>\n",
       "    <tr>\n",
       "      <th>2</th>\n",
       "      <td>5631500400</td>\n",
       "      <td>2015-02-25</td>\n",
       "      <td>180000.0</td>\n",
       "      <td>1.0</td>\n",
       "      <td>98028</td>\n",
       "    </tr>\n",
       "    <tr>\n",
       "      <th>3</th>\n",
       "      <td>2487200875</td>\n",
       "      <td>2014-12-09</td>\n",
       "      <td>604000.0</td>\n",
       "      <td>1.0</td>\n",
       "      <td>98136</td>\n",
       "    </tr>\n",
       "    <tr>\n",
       "      <th>4</th>\n",
       "      <td>1954400510</td>\n",
       "      <td>2015-02-18</td>\n",
       "      <td>510000.0</td>\n",
       "      <td>1.0</td>\n",
       "      <td>98074</td>\n",
       "    </tr>\n",
       "    <tr>\n",
       "      <th>5</th>\n",
       "      <td>7237550310</td>\n",
       "      <td>2014-05-12</td>\n",
       "      <td>1225000.0</td>\n",
       "      <td>1.0</td>\n",
       "      <td>98053</td>\n",
       "    </tr>\n",
       "    <tr>\n",
       "      <th>6</th>\n",
       "      <td>1321400060</td>\n",
       "      <td>2014-06-27</td>\n",
       "      <td>257500.0</td>\n",
       "      <td>2.0</td>\n",
       "      <td>98003</td>\n",
       "    </tr>\n",
       "    <tr>\n",
       "      <th>7</th>\n",
       "      <td>2008000270</td>\n",
       "      <td>2015-01-15</td>\n",
       "      <td>291850.0</td>\n",
       "      <td>1.0</td>\n",
       "      <td>98198</td>\n",
       "    </tr>\n",
       "    <tr>\n",
       "      <th>8</th>\n",
       "      <td>2414600126</td>\n",
       "      <td>2015-04-15</td>\n",
       "      <td>229500.0</td>\n",
       "      <td>1.0</td>\n",
       "      <td>98146</td>\n",
       "    </tr>\n",
       "    <tr>\n",
       "      <th>9</th>\n",
       "      <td>3793500160</td>\n",
       "      <td>2015-03-12</td>\n",
       "      <td>323000.0</td>\n",
       "      <td>2.0</td>\n",
       "      <td>98038</td>\n",
       "    </tr>\n",
       "  </tbody>\n",
       "</table>\n",
       "</div>"
      ],
      "text/plain": [
       "           id       date      price  floors  zipcode\n",
       "0  7129300520 2014-10-13   221900.0     1.0    98178\n",
       "1  6414100192 2014-12-09   538000.0     2.0    98125\n",
       "2  5631500400 2015-02-25   180000.0     1.0    98028\n",
       "3  2487200875 2014-12-09   604000.0     1.0    98136\n",
       "4  1954400510 2015-02-18   510000.0     1.0    98074\n",
       "5  7237550310 2014-05-12  1225000.0     1.0    98053\n",
       "6  1321400060 2014-06-27   257500.0     2.0    98003\n",
       "7  2008000270 2015-01-15   291850.0     1.0    98198\n",
       "8  2414600126 2015-04-15   229500.0     1.0    98146\n",
       "9  3793500160 2015-03-12   323000.0     2.0    98038"
      ]
     },
     "execution_count": 69,
     "metadata": {},
     "output_type": "execute_result"
    }
   ],
   "source": [
    "# método 1 - Direto pelo nome das colunas\n",
    "\n",
    "data[['id','date','price','floors','zipcode']]\n",
    "\n",
    "# método 2 - Pelos índices\n",
    "\n",
    "data.iloc[:,[ 0,1,2,7,16]]\n",
    "\n",
    "# método 3 -- Pelos índices das linhas e o nome das colunas\n",
    "\n",
    "data.loc[0, ['id','date','price','floors','zipcode']]\n",
    "\n",
    "# método 4 -  Índices booleanos\n",
    "\n",
    "i= [True, True, True, False, False, False,\n",
    "False, True, False, False, False, False,\n",
    "False, False, False, False, True,\n",
    "False, False, False, False, False]\n",
    "\n",
    "data.iloc[0:10,i]      "
   ]
  },
  {
   "cell_type": "markdown",
   "id": "0aacc409",
   "metadata": {},
   "source": [
    "### 19. Salve um arquivo .csv com somente as colunas que foram criadas\n"
   ]
  },
  {
   "cell_type": "code",
   "execution_count": null,
   "id": "ea3c1b6a",
   "metadata": {},
   "outputs": [],
   "source": [
    "data[['house_age','dormitory_type','condition_type']].to_csv('Exercicio_19.csv')"
   ]
  }
 ],
 "metadata": {
  "kernelspec": {
   "display_name": "Python 3",
   "language": "python",
   "name": "python3"
  },
  "language_info": {
   "codemirror_mode": {
    "name": "ipython",
    "version": 3
   },
   "file_extension": ".py",
   "mimetype": "text/x-python",
   "name": "python",
   "nbconvert_exporter": "python",
   "pygments_lexer": "ipython3",
   "version": "3.8.8"
  }
 },
 "nbformat": 4,
 "nbformat_minor": 5
}
